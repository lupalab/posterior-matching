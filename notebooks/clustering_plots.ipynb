{
 "cells": [
  {
   "cell_type": "markdown",
   "id": "60da749b-411b-4ffa-8545-2f67a3a6f154",
   "metadata": {},
   "source": [
    "# Partially Observed Clustering Plots\n",
    "\n",
    "This notebook is for making plots similar to the ones from the partially observed clustering experiments in the paper."
   ]
  },
  {
   "cell_type": "code",
   "execution_count": null,
   "id": "1cd93776-c981-46b4-b46d-6cf200072798",
   "metadata": {},
   "outputs": [],
   "source": [
    "import os\n",
    "\n",
    "# We want to be in the project's root directory, not the \"notebooks\" directory.\n",
    "os.chdir(\"..\")"
   ]
  },
  {
   "cell_type": "code",
   "execution_count": null,
   "id": "bf2c06d0-a00e-4d64-b0d2-6fc67d93e0bd",
   "metadata": {},
   "outputs": [],
   "source": [
    "import pickle\n",
    "import json\n",
    "\n",
    "import jax\n",
    "import jax.numpy as jnp\n",
    "import haiku as hk\n",
    "import numpy as np\n",
    "import matplotlib.pyplot as plt\n",
    "import seaborn as sns\n",
    "import tensorflow as tf\n",
    "import tensorflow_datasets as tfds\n",
    "\n",
    "from posterior_matching.models.vade import PosteriorMatchingVADE\n",
    "from posterior_matching.clustering import clustering_accuracy"
   ]
  },
  {
   "cell_type": "markdown",
   "id": "5206d956-43e0-4ea1-b505-caa51d00fbbf",
   "metadata": {},
   "source": [
    "In the cell below, set `RUN_DIR` to a run directory that was created by the `train_pm_vade.py` script."
   ]
  },
  {
   "cell_type": "code",
   "execution_count": null,
   "id": "0f98227b-3813-4a4c-9bdc-86ae56d5462f",
   "metadata": {},
   "outputs": [],
   "source": [
    "RUN_DIR = \"runs/pm-vade-mnist-20220305-170841\"\n",
    "\n",
    "with open(os.path.join(RUN_DIR, \"train_state.pkl\"), \"rb\") as fp:\n",
    "    train_state = pickle.load(fp)\n",
    "    \n",
    "with open(os.path.join(RUN_DIR, \"model_config.json\"), \"r\") as fp:\n",
    "    model_config = json.load(fp)"
   ]
  },
  {
   "cell_type": "markdown",
   "id": "e604653d-e879-4150-94f0-a81873a9ac59",
   "metadata": {},
   "source": [
    "Here, we load the data. If using a dataset other than MNIST, change the name below."
   ]
  },
  {
   "cell_type": "code",
   "execution_count": null,
   "id": "43cde948-322d-4189-9901-491ace116632",
   "metadata": {},
   "outputs": [],
   "source": [
    "ds = tfds.load(\"mnist\", split=\"test\").batch(32, drop_remainder=True)\n",
    "\n",
    "def rescale(x):\n",
    "    x[\"image\"] = tf.cast(x[\"image\"], tf.float32) / 255.0\n",
    "    return x\n",
    "\n",
    "ds = ds.map(rescale)"
   ]
  },
  {
   "cell_type": "markdown",
   "id": "42552074-ca6b-4f96-8553-7660d03a6483",
   "metadata": {},
   "source": [
    "## Evaluation"
   ]
  },
  {
   "cell_type": "markdown",
   "id": "c791e5e1-ac94-4a16-97fd-3cd1e1ff0af2",
   "metadata": {},
   "source": [
    "You can change `NUM_SAMPLES` to determine how many samples are used when estimating the cluster probabilities."
   ]
  },
  {
   "cell_type": "code",
   "execution_count": null,
   "id": "a569626b-c353-4366-8728-b07ae363987e",
   "metadata": {},
   "outputs": [],
   "source": [
    "NUM_SAMPLES = 50\n",
    "\n",
    "def predict_fn(batch):\n",
    "    model = PosteriorMatchingVADE.from_config(model_config)\n",
    "    preds = model.partial_predict_cluster(batch[\"image\"], batch[\"mask\"], num_samples=NUM_SAMPLES)\n",
    "    return jnp.argmax(preds, axis=-1)\n",
    "\n",
    "predict_fn = jax.jit(hk.transform_with_state(predict_fn).apply)"
   ]
  },
  {
   "cell_type": "code",
   "execution_count": null,
   "id": "24982423-ce2d-4c28-bf28-a5a0d4a6a646",
   "metadata": {},
   "outputs": [],
   "source": [
    "observed_probs = np.linspace(0.0, 1.0, 41)\n",
    "\n",
    "y_true = []\n",
    "y_pred = {p: [] for p in observed_probs}\n",
    "\n",
    "prng = hk.PRNGSequence(91)\n",
    "\n",
    "for batch in ds.as_numpy_iterator():\n",
    "    for i, p in enumerate(observed_probs):\n",
    "            batch[\"mask\"] = np.random.binomial(1, p, batch[\"image\"].shape)\n",
    "            preds, _ = predict_fn(train_state.params, train_state.state, prng.next(), batch)\n",
    "\n",
    "            y_pred[p].append(preds)\n",
    "\n",
    "            if i == 0:\n",
    "                y_true.append(batch[\"label\"])\n",
    "                \n",
    "y_true = np.hstack(y_true)\n",
    "y_pred = {k: np.hstack(v) for k, v in y_pred.items()}"
   ]
  },
  {
   "cell_type": "markdown",
   "id": "f376e95d-478b-4eda-acd8-1f7859c702dc",
   "metadata": {},
   "source": [
    "## Plot Clustering Accuracy"
   ]
  },
  {
   "cell_type": "code",
   "execution_count": null,
   "id": "1e63bbd7-7acf-4052-a2d4-dd1fb5978ef1",
   "metadata": {},
   "outputs": [],
   "source": [
    "accs = [clustering_accuracy(y_true, v) for v in y_pred.values()]"
   ]
  },
  {
   "cell_type": "code",
   "execution_count": null,
   "id": "50fbb783-a2ec-4f58-acae-dce8be336925",
   "metadata": {},
   "outputs": [],
   "source": [
    "sns.lineplot(x=observed_probs, y=accs, linewidth=3, color=\"#8da0cb\")\n",
    "sns.despine()\n",
    "\n",
    "plt.xlabel(\"Percent Observedd\")\n",
    "plt.ylabel(\"Clustering Accuracy\")\n",
    "plt.grid(visible=True, axis=\"y\")\n",
    "\n",
    "plt.show()"
   ]
  },
  {
   "cell_type": "code",
   "execution_count": null,
   "id": "3a02cdda-41d1-4a22-a8d9-a2bf486729f1",
   "metadata": {},
   "outputs": [],
   "source": []
  }
 ],
 "metadata": {
  "kernelspec": {
   "display_name": "Python 3 (ipykernel)",
   "language": "python",
   "name": "python3"
  },
  "language_info": {
   "codemirror_mode": {
    "name": "ipython",
    "version": 3
   },
   "file_extension": ".py",
   "mimetype": "text/x-python",
   "name": "python",
   "nbconvert_exporter": "python",
   "pygments_lexer": "ipython3",
   "version": "3.9.7"
  }
 },
 "nbformat": 4,
 "nbformat_minor": 5
}
